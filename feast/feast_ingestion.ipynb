{
 "cells": [
  {
   "cell_type": "code",
   "execution_count": 2,
   "metadata": {},
   "outputs": [
    {
     "data": {
      "text/plain": [
       "[FeatureTable <dev_ft>]"
      ]
     },
     "execution_count": 2,
     "metadata": {},
     "output_type": "execute_result"
    }
   ],
   "source": [
    "from feast import Client\n",
    "\n",
    "# Connect to an existing Feast Core deployment\n",
    "client = Client(core_url=\"172.20.66.56:6565\", serving_url='172.20.39.61:6566', spark_launcher=\"k8s\", spark_k8s_namespace=\"default\")\n",
    "\n",
    "# Ensure that your client is connected by printing out some feature tables\n",
    "# project to track feature table\n",
    "client.set_project(\"dev_test\")\n",
    "client.list_feature_tables()"
   ]
  },
  {
   "cell_type": "code",
   "execution_count": 3,
   "metadata": {},
   "outputs": [],
   "source": [
    "# create entity\n",
    "from feast import Entity, ValueType\n",
    "\n",
    "id = Entity(name=\"id\", description=\"ID of cluster\", value_type=ValueType.INT64)\n",
    "client.apply(id)\n"
   ]
  },
  {
   "cell_type": "code",
   "execution_count": 12,
   "metadata": {},
   "outputs": [
    {
     "data": {
      "text/plain": [
       "[FeatureTable <dev_ft>]"
      ]
     },
     "execution_count": 12,
     "metadata": {},
     "output_type": "execute_result"
    }
   ],
   "source": [
    "import pandas as pd\n",
    "from feast import FeatureTable, Feature,ValueType, FileSource\n",
    "from feast.data_format import ParquetFormat\n",
    "\n",
    "# read input dataframe\n",
    "df = pd.read_csv('/home/jovyan/feast_ingestion/userinput.csv')\n",
    "\n",
    "\n",
    "\n",
    "# create and apply feature table\n",
    "ft = FeatureTable(name='dev_ft', entities=[\"id\"],\n",
    "    features=[\n",
    "      Feature(\"feature1\", ValueType.INT32),\n",
    "        Feature(\"feature2\", ValueType.INT32),\n",
    "    Feature(\"feature3\", ValueType.INT32),\n",
    "    Feature(\"feature4\", ValueType.INT32)],\n",
    "        batch_source=FileSource(\n",
    "    file_format=ParquetFormat(),\n",
    "    file_url=\"file:///home/jovyan/feast_ingestion/\",\n",
    "    event_timestamp_column=\"event_timestamp\",\n",
    "    created_timestamp_column=\"created_timestamp\",\n",
    "),\n",
    "    )\n",
    "\n",
    "client.apply(ft)\n",
    "\n",
    "client.list_feature_tables()"
   ]
  },
  {
   "cell_type": "code",
   "execution_count": 13,
   "metadata": {},
   "outputs": [
    {
     "data": {
      "text/html": [
       "<div>\n",
       "<style scoped>\n",
       "    .dataframe tbody tr th:only-of-type {\n",
       "        vertical-align: middle;\n",
       "    }\n",
       "\n",
       "    .dataframe tbody tr th {\n",
       "        vertical-align: top;\n",
       "    }\n",
       "\n",
       "    .dataframe thead th {\n",
       "        text-align: right;\n",
       "    }\n",
       "</style>\n",
       "<table border=\"1\" class=\"dataframe\">\n",
       "  <thead>\n",
       "    <tr style=\"text-align: right;\">\n",
       "      <th></th>\n",
       "      <th>id</th>\n",
       "      <th>ideal_min_CPU</th>\n",
       "      <th>ideal_max_CPU</th>\n",
       "      <th>ideal_min_memory</th>\n",
       "      <th>ideal_max_memory</th>\n",
       "      <th>event_timestamp</th>\n",
       "      <th>created_timestamp</th>\n",
       "    </tr>\n",
       "  </thead>\n",
       "  <tbody>\n",
       "    <tr>\n",
       "      <th>0</th>\n",
       "      <td>1</td>\n",
       "      <td>1</td>\n",
       "      <td>2</td>\n",
       "      <td>1</td>\n",
       "      <td>2</td>\n",
       "      <td>2020-10-14 09:43:07</td>\n",
       "      <td>2021-03-20 10:38:08.759275</td>\n",
       "    </tr>\n",
       "  </tbody>\n",
       "</table>\n",
       "</div>"
      ],
      "text/plain": [
       "   id  ideal_min_CPU  ideal_max_CPU  ideal_min_memory  ideal_max_memory  \\\n",
       "0   1              1              2                 1                 2   \n",
       "\n",
       "      event_timestamp          created_timestamp  \n",
       "0 2020-10-14 09:43:07 2021-03-20 10:38:08.759275  "
      ]
     },
     "execution_count": 13,
     "metadata": {},
     "output_type": "execute_result"
    }
   ],
   "source": [
    "import numpy as np\n",
    "from datetime import datetime\n",
    "df['event_timestamp'] = pd.to_datetime(\n",
    "            np.random.randint(\n",
    "                datetime(2020, 10, 10).timestamp(),\n",
    "                datetime(2020, 10, 20).timestamp(),\n",
    "                size=1),\n",
    "        unit=\"s\"\n",
    "    )\n",
    "df['created_timestamp'] = pd.to_datetime(datetime.now())\n",
    "df"
   ]
  },
  {
   "cell_type": "code",
   "execution_count": 14,
   "metadata": {},
   "outputs": [
    {
     "name": "stdout",
     "output_type": "stream",
     "text": [
      "Removing temporary file(s)...\n",
      "Data has been successfully ingested into FeatureTable batch source.\n"
     ]
    }
   ],
   "source": [
    "# ingest data into feature table \n",
    "client.ingest(ft, df)"
   ]
  },
  {
   "cell_type": "code",
   "execution_count": 8,
   "metadata": {},
   "outputs": [],
   "source": [
    "import os\n",
    "os.environ[\"FEAST_HISTORICAL_FEATURE_OUTPUT_LOCATION\"] = \"file:///home/jovyan/historical_feature_output\"\n",
    "os.environ[\"FEAST_SPARK_STAGING_LOCATION\"] = \"file:///home/jovyan/test_data\""
   ]
  },
  {
   "cell_type": "code",
   "execution_count": 15,
   "metadata": {},
   "outputs": [],
   "source": [
    "# test receiving features\n",
    "\n",
    "import time\n",
    "\n",
    "# Feature references with target feature\n",
    "feature_refs = [\n",
    "    \"dev_ft:ideal_min_cpu\",\n",
    "]"
   ]
  },
  {
   "cell_type": "code",
   "execution_count": 16,
   "metadata": {},
   "outputs": [
    {
     "data": {
      "text/html": [
       "<div>\n",
       "<style scoped>\n",
       "    .dataframe tbody tr th:only-of-type {\n",
       "        vertical-align: middle;\n",
       "    }\n",
       "\n",
       "    .dataframe tbody tr th {\n",
       "        vertical-align: top;\n",
       "    }\n",
       "\n",
       "    .dataframe thead th {\n",
       "        text-align: right;\n",
       "    }\n",
       "</style>\n",
       "<table border=\"1\" class=\"dataframe\">\n",
       "  <thead>\n",
       "    <tr style=\"text-align: right;\">\n",
       "      <th></th>\n",
       "      <th>id</th>\n",
       "      <th>event_timestamp</th>\n",
       "    </tr>\n",
       "  </thead>\n",
       "  <tbody>\n",
       "    <tr>\n",
       "      <th>0</th>\n",
       "      <td>1</td>\n",
       "      <td>2021-03-20 10:38:27.993960</td>\n",
       "    </tr>\n",
       "  </tbody>\n",
       "</table>\n",
       "</div>"
      ],
      "text/plain": [
       "   id            event_timestamp\n",
       "0   1 2021-03-20 10:38:27.993960"
      ]
     },
     "execution_count": 16,
     "metadata": {},
     "output_type": "execute_result"
    }
   ],
   "source": [
    "# specify entities\n",
    "\n",
    "\n",
    "entities_with_timestamp = pd.DataFrame(columns=['id', 'event_timestamp'])\n",
    "\n",
    "entities_with_timestamp['id'] = np.array([1])\n",
    "entities_with_timestamp['event_timestamp'] = pd.to_datetime(datetime.now())\n",
    "entities_with_timestamp"
   ]
  },
  {
   "cell_type": "code",
   "execution_count": 1,
   "metadata": {},
   "outputs": [
    {
     "output_type": "error",
     "ename": "NameError",
     "evalue": "name 'client' is not defined",
     "traceback": [
      "\u001b[1;31m---------------------------------------------------------------------------\u001b[0m",
      "\u001b[1;31mNameError\u001b[0m                                 Traceback (most recent call last)",
      "\u001b[1;32m<ipython-input-1-c7ae4dfe6da7>\u001b[0m in \u001b[0;36m<module>\u001b[1;34m\u001b[0m\n\u001b[0;32m      1\u001b[0m \u001b[1;31m# Retrieve historical dataset from Feast.\u001b[0m\u001b[1;33m\u001b[0m\u001b[1;33m\u001b[0m\u001b[1;33m\u001b[0m\u001b[0m\n\u001b[0;32m      2\u001b[0m \u001b[1;33m\u001b[0m\u001b[0m\n\u001b[1;32m----> 3\u001b[1;33m historical_feature_retrieval_job = client.get_historical_features(\n\u001b[0m\u001b[0;32m      4\u001b[0m     \u001b[0mfeature_refs\u001b[0m\u001b[1;33m=\u001b[0m\u001b[0mfeature_refs\u001b[0m\u001b[1;33m,\u001b[0m\u001b[1;33m\u001b[0m\u001b[1;33m\u001b[0m\u001b[0m\n\u001b[0;32m      5\u001b[0m     \u001b[0mentity_source\u001b[0m\u001b[1;33m=\u001b[0m\u001b[0mentities_with_timestamp\u001b[0m\u001b[1;33m,\u001b[0m\u001b[1;33m\u001b[0m\u001b[1;33m\u001b[0m\u001b[0m\n",
      "\u001b[1;31mNameError\u001b[0m: name 'client' is not defined"
     ]
    }
   ],
   "source": [
    "# Retrieve historical dataset from Feast.\n",
    "\n",
    "historical_feature_retrieval_job = client.get_historical_features(\n",
    "    feature_refs=feature_refs,\n",
    "    entity_source=entities_with_timestamp,\n",
    ")\n",
    "\n",
    "output_file_uri = historical_feature_retrieval_job.get_output_file_uri()\n",
    "output_file_uri"
   ]
  },
  {
   "cell_type": "code",
   "execution_count": null,
   "metadata": {},
   "outputs": [],
   "source": []
  }
 ],
 "metadata": {
  "kernelspec": {
   "name": "python3",
   "display_name": "Python 3.9.1 64-bit",
   "metadata": {
    "interpreter": {
     "hash": "bdb95e9e6c44080a50b30649309cddf2c6e8e8484879cce824de1edc6e2d9a79"
    }
   }
  },
  "language_info": {
   "codemirror_mode": {
    "name": "ipython",
    "version": 3
   },
   "file_extension": ".py",
   "mimetype": "text/x-python",
   "name": "python",
   "nbconvert_exporter": "python",
   "pygments_lexer": "ipython3",
   "version": "3.9.1-final"
  }
 },
 "nbformat": 4,
 "nbformat_minor": 4
}